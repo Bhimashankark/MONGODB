{
 "cells": [
  {
   "cell_type": "markdown",
   "id": "16d79be2-2dc9-4797-8c16-eb441bd413e2",
   "metadata": {},
   "source": [
    "Q1. What is MongoDB? Explain non-relational databases in short. In which scenarios it is preferred to use MongoDB over SQL databases?"
   ]
  },
  {
   "cell_type": "markdown",
   "id": "d6b6f781-e233-4816-aa86-d21dccbf4db3",
   "metadata": {},
   "source": [
    "ANSWER : MongoDB is a popular open-source document-based NoSQL database that is designed to store and manage large amounts of unstructured data. MongoDB uses a flexible document model based on the BSON (Binary JSON) format, which allows developers to store and manipulate data in a more natural and intuitive way.\n",
    "\n",
    "Non-relational databases, also known as NoSQL databases, are a type of database management system that does not rely on the traditional relational database model. Unlike traditional SQL databases, which use tables with fixed rows and columns to store data, NoSQL databases use a variety of data models, including document-based, key-value, column-family, and graph-based models.\n",
    "\n",
    "NoSQL databases are typically preferred over SQL databases in scenarios where the data is unstructured or semi-structured, and there is a need for high scalability and performance. For example, NoSQL databases are commonly used for web applications, mobile applications, social media, IoT (Internet of Things), and big data analytics, where large volumes of unstructured data need to be processed in real-time.\n",
    "\n",
    "MongoDB is particularly well-suited for use cases where the data is complex and dynamic, such as those found in mobile and web applications, social media, and e-commerce platforms. MongoDB offers several advantages over traditional SQL databases, including:\n",
    "\n",
    "Scalability: MongoDB is designed to scale horizontally across multiple nodes, allowing it to handle large amounts of data and high levels of traffic.\n",
    "\n",
    "Flexibility: MongoDB's document model allows for flexible and dynamic data structures, making it easier to handle data that is constantly changing.\n",
    "\n",
    "Performance: MongoDB is optimized for fast read and write operations, making it well-suited for applications that require low latency and high throughput.\n",
    "\n",
    "Ease of use: MongoDB has a simple and intuitive API, making it easy for developers to work with and integrate into their applications.\n",
    "\n",
    "In summary, MongoDB is a popular NoSQL database that is well-suited for applications that require flexibility, scalability, and performance. NoSQL databases are preferred over SQL databases in scenarios where the data is unstructured or semi-structured, and there is a need for high scalability and performance."
   ]
  },
  {
   "cell_type": "code",
   "execution_count": null,
   "id": "2c167100-bfe2-4d5f-a8ad-dbe51d1a012c",
   "metadata": {},
   "outputs": [],
   "source": []
  },
  {
   "cell_type": "markdown",
   "id": "038f0977-9ffe-4da5-a6db-8997dbef6ae5",
   "metadata": {},
   "source": [
    "Q2. State and Explain the features of MongoDB."
   ]
  },
  {
   "cell_type": "markdown",
   "id": "a0fd6d44-9fe9-4599-b5c3-a0178aefd1c5",
   "metadata": {},
   "source": [
    "ANSWER : MongoDB is a popular open-source NoSQL document-based database that offers several features that differentiate it from traditional SQL databases. Some of the key features of MongoDB include:\n",
    "\n",
    "1)Document-based model: MongoDB uses a flexible document-based model to store data, which allows developers to store data in a more natural and intuitive way. Each document is stored as a BSON (Binary JSON) object, which can contain nested sub-documents and arrays.\n",
    "\n",
    "2)High scalability and availability: MongoDB is designed to scale horizontally across multiple nodes, allowing it to handle large amounts of data and high levels of traffic. It also supports automatic sharding and replication, which ensures high availability and fault tolerance.\n",
    "\n",
    "3)Dynamic schema: MongoDB does not enforce a strict schema, which allows for more flexible and dynamic data structures. This means that developers can easily add or modify fields in a document without having to update the entire schema.\n",
    "\n",
    "4)Indexing and querying: MongoDB supports various types of indexes, including compound indexes and geospatial indexes, which allow for fast and efficient querying of large datasets. It also supports powerful querying capabilities, including aggregation and map-reduce functions.\n",
    "\n",
    "5)Easy to use and learn: MongoDB has a simple and intuitive API, making it easy for developers to work with and integrate into their applications. It also has extensive documentation and a large community of developers that contribute to its development and support."
   ]
  },
  {
   "cell_type": "code",
   "execution_count": null,
   "id": "644aef75-56d6-4e3d-9584-54ccc5a999f9",
   "metadata": {},
   "outputs": [],
   "source": []
  },
  {
   "cell_type": "markdown",
   "id": "cf44de67-0731-449a-9fc4-fc2b735ae2a8",
   "metadata": {},
   "source": [
    "Q3. Write a code to connect MongoDB to Python. Also, create a database and a collection in MongoDB."
   ]
  },
  {
   "cell_type": "code",
   "execution_count": null,
   "id": "ecc9832b-98eb-4d35-94c3-be44c164d201",
   "metadata": {},
   "outputs": [],
   "source": [
    "# ANSWER :\n",
    "import pymongo\n",
    "\n",
    "# connect to MongoDB server\n",
    "client = pymongo.MongoClient(\"mongodb://localhost:27017/\")\n",
    "\n",
    "# create a database\n",
    "db = client[\"mydatabase\"]\n",
    "\n",
    "# create a collection\n",
    "col = db[\"customers\"]\n",
    "\n",
    "# insert a document into the collection\n",
    "doc = {\"name\": \"John\", \"address\": \"Highway 37\"}\n",
    "x = col.insert_one(doc)\n",
    "\n",
    "# print the inserted document ID\n",
    "print(x.inserted_id)\n"
   ]
  },
  {
   "cell_type": "code",
   "execution_count": null,
   "id": "bd69327a-f5a7-40fa-8769-63db006f367f",
   "metadata": {},
   "outputs": [],
   "source": []
  },
  {
   "cell_type": "markdown",
   "id": "4d29553b-102b-463e-a89a-5d9a27c5ee01",
   "metadata": {},
   "source": [
    "Q4. Using the database and the collection created in question number 3, write a code to insert one record, and insert many records. Use the find() and find_one() methods to print the inserted record."
   ]
  },
  {
   "cell_type": "code",
   "execution_count": null,
   "id": "95da8c32-8992-4025-96b7-1db28de0a0e5",
   "metadata": {},
   "outputs": [],
   "source": [
    "#ANSWER : \n",
    "# insert one record\n",
    "record = {\"name\": \"Alice\", \"address\": \"123 Main St\", \"age\": 25}\n",
    "result = col.insert_one(record)\n",
    "print(\"Inserted record ID:\", result.inserted_id)\n",
    "\n",
    "# insert many records\n",
    "records = [\n",
    "    {\"name\": \"Bob\", \"address\": \"456 Elm St\", \"age\": 30},\n",
    "    {\"name\": \"Charlie\", \"address\": \"789 Oak St\", \"age\": 35},\n",
    "    {\"name\": \"David\", \"address\": \"234 Pine St\", \"age\": 40}\n",
    "]\n",
    "result = col.insert_many(records)\n",
    "print(\"Inserted records IDs:\", result.inserted_ids)\n",
    "\n",
    "# find one record\n",
    "result = col.find_one({\"name\": \"Alice\"})\n",
    "print(\"Found record:\", result)\n",
    "\n",
    "# find all records\n",
    "results = col.find()\n",
    "for result in results:\n",
    "    print(\"Found record:\", result)\n"
   ]
  },
  {
   "cell_type": "code",
   "execution_count": null,
   "id": "3943d84d-5eff-4c3b-b9b7-2e8ef0956bc6",
   "metadata": {},
   "outputs": [],
   "source": []
  },
  {
   "cell_type": "markdown",
   "id": "34e3f84c-85c9-4d2c-ab91-06762c397b75",
   "metadata": {},
   "source": [
    "Q5. Explain how you can use the find() method to query the MongoDB database. Write a simple code to demonstrate this."
   ]
  },
  {
   "cell_type": "markdown",
   "id": "4bfb6737-23b9-4ca2-b792-8ebfba8ee314",
   "metadata": {},
   "source": [
    "ANSWER : The find() method is used to query a MongoDB database and retrieve documents from a collection that match a specific set of criteria. It returns a cursor object that can be used to iterate over the documents that match the query.\n",
    "\n",
    "Here is an example of how to use the find() method to query a MongoDB database:"
   ]
  },
  {
   "cell_type": "code",
   "execution_count": null,
   "id": "30c4b6e2-b5f9-48c9-9c3a-99045d9d7e5f",
   "metadata": {},
   "outputs": [],
   "source": [
    "import pymongo\n",
    "\n",
    "# connect to MongoDB server\n",
    "client = pymongo.MongoClient(\"mongodb://localhost:27017/\")\n",
    "\n",
    "# select the database and collection\n",
    "db = client[\"mydatabase\"]\n",
    "col = db[\"customers\"]\n",
    "\n",
    "# find all records\n",
    "results = col.find()\n",
    "\n",
    "# print all records\n",
    "for result in results:\n",
    "    print(result)\n",
    "    \n",
    "#We can also use the find() method with a query object to retrieve only the documents that match specific criteria.\n",
    "#Here's an example:   \n",
    "\n",
    "# find all records where age is greater than or equal to 30\n",
    "results = col.find({\"age\": {\"$gte\": 30}})\n",
    "\n",
    "# print matching records\n",
    "for result in results:\n",
    "    print(result)\n",
    "\n"
   ]
  },
  {
   "cell_type": "code",
   "execution_count": null,
   "id": "35915895-2bae-43f2-bf3c-0c72894fdaea",
   "metadata": {},
   "outputs": [],
   "source": []
  },
  {
   "cell_type": "markdown",
   "id": "000cd9a4-190e-428c-b2c1-b8d38351a111",
   "metadata": {},
   "source": [
    "Q6. Explain the sort() method. Give an example to demonstrate sorting in MongoDB."
   ]
  },
  {
   "cell_type": "markdown",
   "id": "f247eeac-cea1-470c-820e-c9fca789a8e3",
   "metadata": {},
   "source": [
    "The sort() method in MongoDB is used to sort the results of a query in either ascending or descending order based on one or more fields. The method takes a dictionary that specifies the field(s) to sort on and the order of the sort (ascending or descending).\n",
    "\n",
    "Here's an example that demonstrates how to use the sort() method to sort the results of a query in MongoDB:"
   ]
  },
  {
   "cell_type": "code",
   "execution_count": null,
   "id": "ca3f05e2-6a97-40ce-91a8-0880fe6f23e6",
   "metadata": {},
   "outputs": [],
   "source": [
    "import pymongo\n",
    "\n",
    "# connect to MongoDB server\n",
    "client = pymongo.MongoClient(\"mongodb://localhost:27017/\")\n",
    "\n",
    "# select the database and collection\n",
    "db = client[\"mydatabase\"]\n",
    "col = db[\"customers\"]\n",
    "\n",
    "# find all records sorted by name in ascending order\n",
    "results = col.find().sort(\"name\")\n",
    "\n",
    "# print sorted records\n",
    "for result in results:\n",
    "    print(result)\n",
    "\n",
    "# find all records sorted by age in descending order\n",
    "results = col.find().sort(\"age\", pymongo.DESCENDING)\n",
    "\n",
    "# print sorted records\n",
    "for result in results:\n",
    "    print(result)\n"
   ]
  },
  {
   "cell_type": "markdown",
   "id": "aa55722d-5c9f-41e4-9676-ac7cf2d887aa",
   "metadata": {},
   "source": [
    "In this example, we first connect to the local MongoDB server and select the \"mydatabase\" database and \"customers\" collection.\n",
    "\n",
    "We then use the sort() method to sort the results of a query. In the first query, we sort the results by the \"name\" field in ascending order (the default sort order). In the second query, we sort the results by the \"age\" field in descending order.\n",
    "\n",
    "The sort() method returns a cursor object that contains the sorted results of the query. We then iterate over the cursor and print each document to the console."
   ]
  },
  {
   "cell_type": "code",
   "execution_count": null,
   "id": "31ec9b17-5104-40e5-8a26-7e2fbbdf43a9",
   "metadata": {},
   "outputs": [],
   "source": []
  },
  {
   "cell_type": "markdown",
   "id": "0c8460aa-29c4-43de-954f-a2d43c581ac5",
   "metadata": {},
   "source": [
    "Q7. Explain why delete_one(), delete_many(), and drop() is used."
   ]
  },
  {
   "cell_type": "markdown",
   "id": "2403ed59-c3a3-403f-8c14-8eb5949c40fc",
   "metadata": {},
   "source": [
    "1)delete_one(): This method can be useful if you want to remove a specific document from a collection. For example, if you have a collection of user accounts and you want to delete a specific user's account based on their email address, you could use delete_one() to remove that user's document from the collection.\n",
    "\n",
    "2)delete_many(): This method can be useful if you want to remove multiple documents that match a specific criteria. For example, if you have a collection of orders and you want to delete all orders that are older than a certain date, you could use delete_many() to remove all of those orders from the collection.\n",
    "\n",
    "3)drop(): This method is useful if you want to completely delete a collection and all of its documents. For example, if you have a collection that is no longer needed, you could use drop() to permanently remove the collection and free up space in your database.\n",
    "\n",
    "In summary, delete_one(), delete_many(), and drop() are all used to remove documents or collections from a MongoDB database. Each method is used in different scenarios depending on the specific needs of the application."
   ]
  }
 ],
 "metadata": {
  "kernelspec": {
   "display_name": "Python 3 (ipykernel)",
   "language": "python",
   "name": "python3"
  },
  "language_info": {
   "codemirror_mode": {
    "name": "ipython",
    "version": 3
   },
   "file_extension": ".py",
   "mimetype": "text/x-python",
   "name": "python",
   "nbconvert_exporter": "python",
   "pygments_lexer": "ipython3",
   "version": "3.10.8"
  }
 },
 "nbformat": 4,
 "nbformat_minor": 5
}
